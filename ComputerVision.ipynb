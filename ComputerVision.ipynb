{
 "metadata": {
  "kernelspec": {
   "language": "python",
   "display_name": "Python 3",
   "name": "python3"
  },
  "language_info": {
   "name": "python",
   "version": "3.10.12",
   "mimetype": "text/x-python",
   "codemirror_mode": {
    "name": "ipython",
    "version": 3
   },
   "pygments_lexer": "ipython3",
   "nbconvert_exporter": "python",
   "file_extension": ".py"
  }
 },
 "nbformat_minor": 4,
 "nbformat": 4,
 "cells": [
  {
   "cell_type": "code",
   "source": [
    "import os\n",
    "import numpy as np\n",
    "import tensorflow as tf\n",
    "import cv2\n",
    "from sklearn.preprocessing import OneHotEncoder"
   ],
   "metadata": {
    "_uuid": "7ad660cf-ad78-44be-b3c6-03fb22408b2d",
    "_cell_guid": "7c40e4e2-1208-4c4d-b01c-5b950cbdd319",
    "collapsed": false,
    "jupyter": {
     "outputs_hidden": false
    },
    "execution": {
     "iopub.status.busy": "2023-11-06T18:16:51.695415Z",
     "iopub.execute_input": "2023-11-06T18:16:51.695913Z",
     "iopub.status.idle": "2023-11-06T18:16:51.735611Z",
     "shell.execute_reply.started": "2023-11-06T18:16:51.695859Z",
     "shell.execute_reply": "2023-11-06T18:16:51.734596Z"
    },
    "trusted": true
   },
   "execution_count": 8,
   "outputs": []
  },
  {
   "cell_type": "code",
   "source": [
    "for gpu in tf.config.list_physical_devices(\"GPU\"):\n",
    "    tf.config.experimental.set_memory_growth(gpu, True)\n",
    "    print(gpu)"
   ],
   "metadata": {
    "execution": {
     "iopub.status.busy": "2023-11-06T18:07:14.728961Z",
     "iopub.execute_input": "2023-11-06T18:07:14.729800Z",
     "iopub.status.idle": "2023-11-06T18:07:15.228277Z",
     "shell.execute_reply.started": "2023-11-06T18:07:14.729765Z",
     "shell.execute_reply": "2023-11-06T18:07:15.227050Z"
    },
    "trusted": true
   },
   "execution_count": 2,
   "outputs": [
    {
     "name": "stdout",
     "text": "PhysicalDevice(name='/physical_device:GPU:0', device_type='GPU')\nPhysicalDevice(name='/physical_device:GPU:1', device_type='GPU')\n",
     "output_type": "stream"
    }
   ]
  },
  {
   "cell_type": "code",
   "source": [
    "def concat(subdir_path):\n",
    "    video = [\n",
    "        load_and_preprocess_video(os.path.join(subdir_path, video_file)) for video_file in os.listdir(subdir_path)\n",
    "    ]\n",
    "    return np.array(video)"
   ],
   "metadata": {
    "_uuid": "8ede1c85-44ad-4cbe-bbc3-d3b5e576b210",
    "_cell_guid": "0e399716-60c2-4846-89d6-658ea38cae87",
    "collapsed": false,
    "jupyter": {
     "outputs_hidden": false
    },
    "execution": {
     "iopub.status.busy": "2023-11-06T18:07:24.453496Z",
     "iopub.execute_input": "2023-11-06T18:07:24.453851Z",
     "iopub.status.idle": "2023-11-06T18:07:24.458948Z",
     "shell.execute_reply.started": "2023-11-06T18:07:24.453825Z",
     "shell.execute_reply": "2023-11-06T18:07:24.457837Z"
    },
    "trusted": true
   },
   "execution_count": 3,
   "outputs": []
  },
  {
   "cell_type": "code",
   "source": [
    "\n",
    "# Define the path to your labeled video dataset\n",
    "dataset_dir = '/kaggle/input/dcsass-dataset/DCSASS Dataset'\n",
    "\n",
    "# Function to load and preprocess video data\n",
    "def load_and_preprocess_video(video_file, target_shape=(224, 224)):\n",
    "    frames = []\n",
    "    cap = cv2.VideoCapture(video_file)\n",
    "    \n",
    "    while True:\n",
    "        ret, frame = cap.read()\n",
    "        if not ret:\n",
    "            break\n",
    "\n",
    "        # Resize the frame to the target shape\n",
    "        frame = cv2.resize(frame, target_shape)\n",
    "\n",
    "        # Convert frame to grayscale (optional)\n",
    "        frame = cv2.cvtColor(frame, cv2.COLOR_BGR2GRAY)\n",
    "\n",
    "        # Normalize pixel values (optional)\n",
    "        frame = frame / 255.0\n",
    "\n",
    "        frames.append(frame)\n",
    "\n",
    "    cap.release()\n",
    "    return np.array(frames)\n",
    "\n",
    "\n",
    "\n",
    "# Now, 'data' contains preprocessed video frames, and 'labels' contains the corresponding labels for each video."
   ],
   "metadata": {
    "_uuid": "0ce677eb-c1b4-49ba-844c-d027493550bf",
    "_cell_guid": "af57e71b-6171-4527-ad86-5db65935554e",
    "collapsed": false,
    "jupyter": {
     "outputs_hidden": false
    },
    "execution": {
     "iopub.status.busy": "2023-11-06T18:08:03.468339Z",
     "iopub.execute_input": "2023-11-06T18:08:03.468720Z",
     "iopub.status.idle": "2023-11-06T18:08:03.475476Z",
     "shell.execute_reply.started": "2023-11-06T18:08:03.468687Z",
     "shell.execute_reply": "2023-11-06T18:08:03.474435Z"
    },
    "trusted": true
   },
   "execution_count": 4,
   "outputs": []
  },
  {
   "cell_type": "code",
   "source": [
    "# Initialize empty lists to store data and labels\n",
    "data = []  # Store preprocessed video data\n",
    "labels = []  # Store corresponding labels\n",
    "\n",
    "# Iterate through subfolders, each corresponding to a label\n",
    "for label in os.listdir(dataset_dir):\n",
    "    label_dir = os.path.join(dataset_dir, label)\n",
    "    if os.path.isdir(label_dir):\n",
    "        for video_dir in os.listdir(label_dir):\n",
    "            if video_dir.endswith(\".mp4\"):\n",
    "                video_path = os.path.join(label_dir, video_dir)\n",
    "#                 frames = concat(video_path)\n",
    "                data.append(video_path)                    \n",
    "                labels.append(label)"
   ],
   "metadata": {
    "_uuid": "e9e94933-1e38-44c1-ba9a-53e2e8a78107",
    "_cell_guid": "19f98a47-46f2-47f5-84ef-473ed0f956e7",
    "collapsed": false,
    "jupyter": {
     "outputs_hidden": false
    },
    "execution": {
     "iopub.status.busy": "2023-11-06T18:08:13.043305Z",
     "iopub.execute_input": "2023-11-06T18:08:13.044139Z",
     "iopub.status.idle": "2023-11-06T18:08:13.103591Z",
     "shell.execute_reply.started": "2023-11-06T18:08:13.044105Z",
     "shell.execute_reply": "2023-11-06T18:08:13.102866Z"
    },
    "trusted": true
   },
   "execution_count": 5,
   "outputs": []
  },
  {
   "cell_type": "code",
   "source": [
    "data = tf.constant(data)\n",
    "labels = tf.constant(labels)\n",
    "dataset = tf.data.Dataset.from_tensor_slices((data, labels))"
   ],
   "metadata": {
    "execution": {
     "iopub.status.busy": "2023-11-06T18:10:29.850782Z",
     "iopub.execute_input": "2023-11-06T18:10:29.851676Z",
     "iopub.status.idle": "2023-11-06T18:10:33.652932Z",
     "shell.execute_reply.started": "2023-11-06T18:10:29.851641Z",
     "shell.execute_reply": "2023-11-06T18:10:33.651770Z"
    },
    "trusted": true
   },
   "execution_count": 6,
   "outputs": []
  },
  {
   "cell_type": "code",
   "source": [
    "="
   ],
   "metadata": {
    "execution": {
     "iopub.status.busy": "2023-11-06T18:17:23.676686Z",
     "iopub.execute_input": "2023-11-06T18:17:23.677059Z",
     "iopub.status.idle": "2023-11-06T18:17:23.690520Z",
     "shell.execute_reply.started": "2023-11-06T18:17:23.677018Z",
     "shell.execute_reply": "2023-11-06T18:17:23.689506Z"
    },
    "trusted": true
   },
   "execution_count": 10,
   "outputs": [
    {
     "execution_count": 10,
     "output_type": "execute_result",
     "data": {
      "text/plain": "<3x2 sparse matrix of type '<class 'numpy.float64'>'\n\twith 3 stored elements in Compressed Sparse Row format>"
     },
     "metadata": {}
    }
   ]
  },
  {
   "cell_type": "code",
   "source": [
    "def process_path(vdPath, label):\n",
    "    video = concat(vdPath)\n",
    "    label = [label]git \n",
    "    "
   ],
   "metadata": {},
   "execution_count": null,
   "outputs": []
  },
  {
   "cell_type": "code",
   "source": [
    "video = concat(os.path.join(dataset_dir, \"Abuse\", \"Abuse001_x264.mp4\"))\n",
    "video.shape"
   ],
   "metadata": {
    "_uuid": "5fc76a97-f3c9-4851-9d20-a57d72907665",
    "_cell_guid": "9892e7d8-621e-4d92-96fe-839a14d6fa3d",
    "collapsed": false,
    "execution": {
     "iopub.status.busy": "2023-11-06T16:04:41.670287Z",
     "iopub.execute_input": "2023-11-06T16:04:41.670724Z",
     "iopub.status.idle": "2023-11-06T16:04:43.746796Z",
     "shell.execute_reply.started": "2023-11-06T16:04:41.670688Z",
     "shell.execute_reply": "2023-11-06T16:04:43.745633Z"
    },
    "jupyter": {
     "outputs_hidden": false
    },
    "trusted": true
   },
   "execution_count": null,
   "outputs": []
  },
  {
   "cell_type": "code",
   "source": [],
   "metadata": {
    "_uuid": "f0576978-416e-4e2f-9f10-c3639e846e69",
    "_cell_guid": "96f6e9ea-3416-4325-905a-bf1183d303fb",
    "collapsed": false,
    "jupyter": {
     "outputs_hidden": false
    },
    "trusted": true
   },
   "execution_count": null,
   "outputs": []
  },
  {
   "cell_type": "markdown",
   "source": [],
   "metadata": {}
  }
 ]
}
